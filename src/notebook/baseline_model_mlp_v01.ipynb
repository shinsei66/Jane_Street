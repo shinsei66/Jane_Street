{
 "cells": [
  {
   "cell_type": "markdown",
   "metadata": {},
   "source": [
    "# Import"
   ]
  },
  {
   "cell_type": "code",
   "execution_count": 1,
   "metadata": {},
   "outputs": [
    {
     "name": "stdout",
     "output_type": "stream",
     "text": [
      "Wed Jan  6 01:34:30 2021       \r\n",
      "+-----------------------------------------------------------------------------+\r\n",
      "| NVIDIA-SMI 460.27.04    Driver Version: 460.27.04    CUDA Version: 11.2     |\r\n",
      "|-------------------------------+----------------------+----------------------+\r\n",
      "| GPU  Name        Persistence-M| Bus-Id        Disp.A | Volatile Uncorr. ECC |\r\n",
      "| Fan  Temp  Perf  Pwr:Usage/Cap|         Memory-Usage | GPU-Util  Compute M. |\r\n",
      "|                               |                      |               MIG M. |\r\n",
      "|===============================+======================+======================|\r\n",
      "|   0  GeForce RTX 3090    On   | 00000000:01:00.0 Off |                  N/A |\r\n",
      "|  0%   51C    P5    57W / 350W |    286MiB / 24268MiB |      0%      Default |\r\n",
      "|                               |                      |                  N/A |\r\n",
      "+-------------------------------+----------------------+----------------------+\r\n",
      "                                                                               \r\n",
      "+-----------------------------------------------------------------------------+\r\n",
      "| Processes:                                                                  |\r\n",
      "|  GPU   GI   CI        PID   Type   Process name                  GPU Memory |\r\n",
      "|        ID   ID                                                   Usage      |\r\n",
      "|=============================================================================|\r\n",
      "|    0   N/A  N/A      1267      G   /usr/lib/xorg/Xorg                 45MiB |\r\n",
      "|    0   N/A  N/A      1923      G   /usr/lib/xorg/Xorg                122MiB |\r\n",
      "|    0   N/A  N/A      2097      G   /usr/bin/gnome-shell               32MiB |\r\n",
      "|    0   N/A  N/A      3620      G   ...AAAAAAAA== --shared-files       68MiB |\r\n",
      "+-----------------------------------------------------------------------------+\r\n"
     ]
    }
   ],
   "source": [
    "!nvidia-smi"
   ]
  },
  {
   "cell_type": "code",
   "execution_count": 12,
   "metadata": {},
   "outputs": [
    {
     "name": "stdout",
     "output_type": "stream",
     "text": [
      "1.7.1+cu110\n"
     ]
    }
   ],
   "source": [
    "import pandas as pd\n",
    "import numpy as np\n",
    "import glob\n",
    "#import cupy as cp\n",
    "import os\n",
    "import gc\n",
    "import time\n",
    "import torch\n",
    "import torchvision\n",
    "from torch.optim.lr_scheduler import ReduceLROnPlateau\n",
    "from torch import nn\n",
    "import torch.nn.functional as F\n",
    "from tqdm.notebook import tqdm\n",
    "from torch.utils.data import DataLoader\n",
    "print(torch.__version__)\n",
    "import matplotlib.pyplot as plt\n",
    "from numba import njit\n",
    "%matplotlib inline\n",
    "from janest_model import MLPNet , CustomDataset, train_model\n",
    "from utils import PurgedGroupTimeSeriesSplit"
   ]
  },
  {
   "cell_type": "code",
   "execution_count": null,
   "metadata": {},
   "outputs": [],
   "source": [
    "#%%writefile test.py\n",
    "#print('hello world!')"
   ]
  },
  {
   "cell_type": "markdown",
   "metadata": {},
   "source": [
    "## Parameter setting"
   ]
  },
  {
   "cell_type": "code",
   "execution_count": 3,
   "metadata": {},
   "outputs": [
    {
     "name": "stdout",
     "output_type": "stream",
     "text": [
      "cuda\n"
     ]
    }
   ],
   "source": [
    "TRAINING = True\n",
    "USE_FINETUNE = True     \n",
    "FOLDS = 5\n",
    "GROUP_GAP = 20\n",
    "SEED = 66\n",
    "INPUTPATH = '../../input'\n",
    "NUM_EPOCH = 500\n",
    "BATCH_SIZE = 16384\n",
    "PATIANCE = 15\n",
    "LR = 0.0005\n",
    "DEVICE = torch.device(\"cuda\" if torch.cuda.is_available() else \"cpu\")\n",
    "print(DEVICE)\n",
    "MDL_PATH  = '../models'\n",
    "MDL_NAME = 'mlp'\n",
    "NUM_LYR = 5\n",
    "VER = 'cv_base'"
   ]
  },
  {
   "cell_type": "markdown",
   "metadata": {},
   "source": [
    "## Import Data "
   ]
  },
  {
   "cell_type": "code",
   "execution_count": 4,
   "metadata": {
    "scrolled": false
   },
   "outputs": [
    {
     "name": "stdout",
     "output_type": "stream",
     "text": [
      "CPU times: user 8.3 s, sys: 3.87 s, total: 12.2 s\n",
      "Wall time: 1.25 s\n"
     ]
    }
   ],
   "source": [
    "%%time\n",
    "train = pd.read_parquet(f'{INPUTPATH}/train.parquet')\n",
    "test_df = pd.read_csv(f'{INPUTPATH}/example_test.csv')\n",
    "pred_df  = pd.read_csv(f'{INPUTPATH}/example_sample_submission.csv')"
   ]
  },
  {
   "cell_type": "code",
   "execution_count": null,
   "metadata": {},
   "outputs": [],
   "source": [
    "test_df.head()"
   ]
  },
  {
   "cell_type": "code",
   "execution_count": null,
   "metadata": {},
   "outputs": [],
   "source": [
    "train.head()"
   ]
  },
  {
   "cell_type": "markdown",
   "metadata": {},
   "source": [
    "# Features"
   ]
  },
  {
   "cell_type": "code",
   "execution_count": 5,
   "metadata": {},
   "outputs": [
    {
     "name": "stdout",
     "output_type": "stream",
     "text": [
      "(1571415, 139)\n",
      "CPU times: user 1.76 s, sys: 730 ms, total: 2.49 s\n",
      "Wall time: 2.48 s\n"
     ]
    }
   ],
   "source": [
    "%%time\n",
    "train = train.query('date > 85').reset_index(drop = True) \n",
    "print(train.shape)\n",
    "train.fillna(train.mean(),inplace=True)\n",
    "train = train.query('weight > 0').reset_index(drop = True)\n",
    "train['action'] =  \\\n",
    "(  (train['resp_1'] > 0.00001 ) & \\\n",
    "   (train['resp_2'] > 0.00001 ) & \\\n",
    "   (train['resp_3'] > 0.00001 ) & \\\n",
    "   (train['resp_4'] > 0.00001 ) & \\\n",
    "   (train['resp'] > 0.00001 )   ).astype('int')\n",
    "\n",
    "features = [c for c in train.columns if 'feature' in c]\n",
    "\n",
    "resp_cols = ['resp_1', 'resp_2', 'resp_3', 'resp', 'resp_4']\n",
    "\n",
    "X = train[features].values\n",
    "y = np.stack([(train[c] > 0.000001).astype('int') for c in resp_cols]).T\n",
    "#X = cp.array(train[features].values)\n",
    "#y = cp.array(np.stack([(train[c] > 0.000001).astype('int') for c in resp_cols]).T) #Multitarget\n",
    "#f_mean = np.mean(train[features[1:]].values,axis=0)\n",
    "\n",
    "f_mean = np.load( f'{INPUTPATH}/f_mean.npy')"
   ]
  },
  {
   "cell_type": "code",
   "execution_count": null,
   "metadata": {},
   "outputs": [],
   "source": [
    "#%%time\n",
    "#np.save( f'{INPUTPATH}/f_mean.npy',f_mean)"
   ]
  },
  {
   "cell_type": "code",
   "execution_count": null,
   "metadata": {},
   "outputs": [],
   "source": [
    "print(X.shape[-1])\n",
    "print(y.shape[-1])"
   ]
  },
  {
   "cell_type": "markdown",
   "metadata": {},
   "source": [
    "# Trainning"
   ]
  },
  {
   "cell_type": "markdown",
   "metadata": {},
   "source": [
    "## Data Split"
   ]
  },
  {
   "cell_type": "code",
   "execution_count": 6,
   "metadata": {},
   "outputs": [],
   "source": [
    "gkf =  PurgedGroupTimeSeriesSplit(n_splits = FOLDS,  group_gap = GROUP_GAP)"
   ]
  },
  {
   "cell_type": "markdown",
   "metadata": {},
   "source": [
    "## MLP"
   ]
  },
  {
   "cell_type": "markdown",
   "metadata": {},
   "source": [
    "### CV "
   ]
  },
  {
   "cell_type": "code",
   "execution_count": 24,
   "metadata": {},
   "outputs": [
    {
     "data": {
      "text/plain": [
       "MLPNet(\n",
       "  (fc1): Linear(in_features=512, out_features=512, bias=True)\n",
       "  (fc2): Linear(in_features=512, out_features=5, bias=True)\n",
       "  (dropout1): Dropout(p=0.5, inplace=False)\n",
       "  (dropout2): Dropout(p=0.5, inplace=False)\n",
       "  (bat): BatchNorm1d(512, eps=1e-05, momentum=0.1, affine=True, track_running_stats=True)\n",
       "  (act): Sigmoid()\n",
       "  (encoder): Sequential(\n",
       "    (0): BatchNorm1d(130, eps=1e-05, momentum=0.1, affine=True, track_running_stats=True)\n",
       "    (1): Linear(in_features=130, out_features=512, bias=True)\n",
       "    (2): ReLU(inplace=True)\n",
       "  )\n",
       "  (layer): Sequential(\n",
       "    (0): Linear(in_features=512, out_features=512, bias=True)\n",
       "    (1): BatchNorm1d(512, eps=1e-05, momentum=0.1, affine=True, track_running_stats=True)\n",
       "    (2): Hardswish()\n",
       "    (3): Dropout(p=0.5, inplace=False)\n",
       "    (4): Linear(in_features=512, out_features=512, bias=True)\n",
       "    (5): BatchNorm1d(512, eps=1e-05, momentum=0.1, affine=True, track_running_stats=True)\n",
       "    (6): Hardswish()\n",
       "    (7): Dropout(p=0.5, inplace=False)\n",
       "  )\n",
       ")"
      ]
     },
     "execution_count": 24,
     "metadata": {},
     "output_type": "execute_result"
    }
   ],
   "source": [
    "model"
   ]
  },
  {
   "cell_type": "code",
   "execution_count": 7,
   "metadata": {},
   "outputs": [],
   "source": [
    "model = MLPNet(input_size = X.shape[-1], output_size = y.shape[-1]).to(DEVICE)\n",
    "criterion = nn.BCELoss()\n",
    "optimizer = torch.optim.Adam(\n",
    "    model.parameters(), lr=LR, weight_decay=1e-5)\n",
    "scheduler = ReduceLROnPlateau(optimizer, 'min',verbose=True,patience=5)"
   ]
  },
  {
   "cell_type": "code",
   "execution_count": 8,
   "metadata": {},
   "outputs": [
    {
     "name": "stdout",
     "output_type": "stream",
     "text": [
      "Fold : 1\n"
     ]
    },
    {
     "data": {
      "application/vnd.jupyter.widget-view+json": {
       "model_id": "485b06f3db2449e0ab7153d531a120a3",
       "version_major": 2,
       "version_minor": 0
      },
      "text/plain": [
       "  0%|          | 0/500 [00:00<?, ?it/s]"
      ]
     },
     "metadata": {},
     "output_type": "display_data"
    },
    {
     "name": "stdout",
     "output_type": "stream",
     "text": [
      "Epoch [1/500],        Train BCE loss: 0.712545,         Valid BCE loss: 0.692359,       Early stopping counter: 0\n",
      "Epoch [2/500],        Train BCE loss: 0.701107,         Valid BCE loss: 0.691697,       Early stopping counter: 0\n",
      "Epoch [3/500],        Train BCE loss: 0.696856,         Valid BCE loss: 0.691141,       Early stopping counter: 0\n",
      "Epoch [4/500],        Train BCE loss: 0.693769,         Valid BCE loss: 0.690901,       Early stopping counter: 0\n",
      "Epoch [5/500],        Train BCE loss: 0.692561,         Valid BCE loss: 0.690779,       Early stopping counter: 0\n",
      "Epoch [6/500],        Train BCE loss: 0.691363,         Valid BCE loss: 0.690632,       Early stopping counter: 0\n",
      "Epoch [7/500],        Train BCE loss: 0.690843,         Valid BCE loss: 0.690521,       Early stopping counter: 0\n",
      "Epoch [8/500],        Train BCE loss: 0.690343,         Valid BCE loss: 0.690427,       Early stopping counter: 0\n",
      "Epoch [9/500],        Train BCE loss: 0.689865,         Valid BCE loss: 0.690346,       Early stopping counter: 0\n",
      "Epoch [10/500],        Train BCE loss: 0.689306,         Valid BCE loss: 0.690340,       Early stopping counter: 0\n",
      "Epoch [11/500],        Train BCE loss: 0.688851,         Valid BCE loss: 0.690332,       Early stopping counter: 0\n",
      "Epoch [12/500],        Train BCE loss: 0.688577,         Valid BCE loss: 0.690335,       Early stopping counter: 1\n",
      "Epoch [13/500],        Train BCE loss: 0.688041,         Valid BCE loss: 0.690356,       Early stopping counter: 2\n",
      "Epoch [14/500],        Train BCE loss: 0.687605,         Valid BCE loss: 0.690379,       Early stopping counter: 3\n",
      "Epoch    15: reducing learning rate of group 0 to 5.0000e-05.\n",
      "Epoch [15/500],        Train BCE loss: 0.687313,         Valid BCE loss: 0.690422,       Early stopping counter: 4\n",
      "Epoch [16/500],        Train BCE loss: 0.686989,         Valid BCE loss: 0.690426,       Early stopping counter: 5\n",
      "Epoch [17/500],        Train BCE loss: 0.686932,         Valid BCE loss: 0.690423,       Early stopping counter: 6\n",
      "Epoch [18/500],        Train BCE loss: 0.686827,         Valid BCE loss: 0.690430,       Early stopping counter: 7\n",
      "Epoch [19/500],        Train BCE loss: 0.686818,         Valid BCE loss: 0.690446,       Early stopping counter: 8\n",
      "Epoch [20/500],        Train BCE loss: 0.686651,         Valid BCE loss: 0.690452,       Early stopping counter: 9\n",
      "Epoch    21: reducing learning rate of group 0 to 5.0000e-06.\n",
      "Epoch [21/500],        Train BCE loss: 0.686818,         Valid BCE loss: 0.690459,       Early stopping counter: 10\n",
      "Epoch [22/500],        Train BCE loss: 0.686780,         Valid BCE loss: 0.690464,       Early stopping counter: 11\n",
      "Epoch [23/500],        Train BCE loss: 0.686559,         Valid BCE loss: 0.690469,       Early stopping counter: 12\n",
      "Epoch [24/500],        Train BCE loss: 0.686616,         Valid BCE loss: 0.690470,       Early stopping counter: 13\n",
      "Epoch [25/500],        Train BCE loss: 0.686597,         Valid BCE loss: 0.690474,       Early stopping counter: 14\n",
      "Loss did not improved for 15 epochs\n",
      "The best bse loss is 0.690332\n",
      "The best bse loss is 0.690332\n"
     ]
    },
    {
     "data": {
      "image/png": "[encoded data removed]",
      "text/plain": [
       "<Figure size 432x288 with 2 Axes>"
      ]
     },
     "metadata": {
      "needs_background": "light"
     },
     "output_type": "display_data"
    },
    {
     "name": "stdout",
     "output_type": "stream",
     "text": [
      "Fold : 2\n"
     ]
    },
    {
     "data": {
      "application/vnd.jupyter.widget-view+json": {
       "model_id": "fc729f24b80b4d19831868228f50a324",
       "version_major": 2,
       "version_minor": 0
      },
      "text/plain": [
       "  0%|          | 0/500 [00:00<?, ?it/s]"
      ]
     },
     "metadata": {},
     "output_type": "display_data"
    },
    {
     "name": "stdout",
     "output_type": "stream",
     "text": [
      "Epoch    27: reducing learning rate of group 0 to 5.0000e-07.\n",
      "Epoch [1/500],        Train BCE loss: 0.690688,         Valid BCE loss: 0.690967,       Early stopping counter: 0\n",
      "Epoch [2/500],        Train BCE loss: 0.690954,         Valid BCE loss: 0.690963,       Early stopping counter: 0\n",
      "Epoch [3/500],        Train BCE loss: 0.690867,         Valid BCE loss: 0.690954,       Early stopping counter: 0\n",
      "Epoch [4/500],        Train BCE loss: 0.690747,         Valid BCE loss: 0.690938,       Early stopping counter: 0\n",
      "Epoch [5/500],        Train BCE loss: 0.690829,         Valid BCE loss: 0.690923,       Early stopping counter: 0\n",
      "Epoch [6/500],        Train BCE loss: 0.690737,         Valid BCE loss: 0.690919,       Early stopping counter: 0\n",
      "Epoch    33: reducing learning rate of group 0 to 5.0000e-08.\n",
      "Epoch [7/500],        Train BCE loss: 0.690787,         Valid BCE loss: 0.690911,       Early stopping counter: 0\n",
      "Epoch [8/500],        Train BCE loss: 0.690849,         Valid BCE loss: 0.690909,       Early stopping counter: 0\n",
      "Epoch [9/500],        Train BCE loss: 0.690831,         Valid BCE loss: 0.690910,       Early stopping counter: 1\n",
      "Epoch [10/500],        Train BCE loss: 0.690742,         Valid BCE loss: 0.690906,       Early stopping counter: 0\n",
      "Epoch [11/500],        Train BCE loss: 0.690736,         Valid BCE loss: 0.690911,       Early stopping counter: 1\n",
      "Epoch [12/500],        Train BCE loss: 0.690679,         Valid BCE loss: 0.690905,       Early stopping counter: 0\n",
      "Epoch    39: reducing learning rate of group 0 to 5.0000e-09.\n",
      "Epoch [13/500],        Train BCE loss: 0.690872,         Valid BCE loss: 0.690902,       Early stopping counter: 0\n",
      "Epoch [14/500],        Train BCE loss: 0.690746,         Valid BCE loss: 0.690904,       Early stopping counter: 1\n",
      "Epoch [15/500],        Train BCE loss: 0.690725,         Valid BCE loss: 0.690901,       Early stopping counter: 0\n",
      "Epoch [16/500],        Train BCE loss: 0.690613,         Valid BCE loss: 0.690907,       Early stopping counter: 1\n",
      "Epoch [17/500],        Train BCE loss: 0.690610,         Valid BCE loss: 0.690909,       Early stopping counter: 2\n",
      "Epoch [18/500],        Train BCE loss: 0.690794,         Valid BCE loss: 0.690907,       Early stopping counter: 3\n",
      "Epoch [19/500],        Train BCE loss: 0.690677,         Valid BCE loss: 0.690905,       Early stopping counter: 4\n",
      "Epoch [20/500],        Train BCE loss: 0.690760,         Valid BCE loss: 0.690912,       Early stopping counter: 5\n",
      "Epoch [21/500],        Train BCE loss: 0.690823,         Valid BCE loss: 0.690898,       Early stopping counter: 0\n",
      "Epoch [22/500],        Train BCE loss: 0.690775,         Valid BCE loss: 0.690900,       Early stopping counter: 1\n",
      "Epoch [23/500],        Train BCE loss: 0.690850,         Valid BCE loss: 0.690903,       Early stopping counter: 2\n",
      "Epoch [24/500],        Train BCE loss: 0.690689,         Valid BCE loss: 0.690908,       Early stopping counter: 3\n",
      "Epoch [25/500],        Train BCE loss: 0.690765,         Valid BCE loss: 0.690905,       Early stopping counter: 4\n",
      "Epoch [26/500],        Train BCE loss: 0.690643,         Valid BCE loss: 0.690904,       Early stopping counter: 5\n",
      "Epoch [27/500],        Train BCE loss: 0.690615,         Valid BCE loss: 0.690898,       Early stopping counter: 6\n",
      "Epoch [28/500],        Train BCE loss: 0.690669,         Valid BCE loss: 0.690900,       Early stopping counter: 7\n",
      "Epoch [29/500],        Train BCE loss: 0.690665,         Valid BCE loss: 0.690899,       Early stopping counter: 8\n",
      "Epoch [30/500],        Train BCE loss: 0.690731,         Valid BCE loss: 0.690906,       Early stopping counter: 9\n",
      "Epoch [31/500],        Train BCE loss: 0.690753,         Valid BCE loss: 0.690904,       Early stopping counter: 10\n",
      "Epoch [32/500],        Train BCE loss: 0.690599,         Valid BCE loss: 0.690908,       Early stopping counter: 11\n",
      "Epoch [33/500],        Train BCE loss: 0.690648,         Valid BCE loss: 0.690903,       Early stopping counter: 12\n",
      "Epoch [34/500],        Train BCE loss: 0.690600,         Valid BCE loss: 0.690901,       Early stopping counter: 13\n",
      "Epoch [35/500],        Train BCE loss: 0.690783,         Valid BCE loss: 0.690907,       Early stopping counter: 14\n",
      "Loss did not improved for 15 epochs\n",
      "The best bse loss is 0.690898\n",
      "The best bse loss is 0.690898\n"
     ]
    },
    {
     "data": {
      "image/png": "[encoded data removed]",
      "text/plain": [
       "<Figure size 432x288 with 2 Axes>"
      ]
     },
     "metadata": {
      "needs_background": "light"
     },
     "output_type": "display_data"
    },
    {
     "name": "stdout",
     "output_type": "stream",
     "text": [
      "Fold : 3\n"
     ]
    },
    {
     "data": {
      "application/vnd.jupyter.widget-view+json": {
       "model_id": "957e65e2ec6e43b1b897aabd80a4f9f9",
       "version_major": 2,
       "version_minor": 0
      },
      "text/plain": [
       "  0%|          | 0/500 [00:00<?, ?it/s]"
      ]
     },
     "metadata": {},
     "output_type": "display_data"
    },
    {
     "name": "stdout",
     "output_type": "stream",
     "text": [
      "Epoch [1/500],        Train BCE loss: 0.691827,         Valid BCE loss: 0.690320,       Early stopping counter: 0\n",
      "Epoch [2/500],        Train BCE loss: 0.691696,         Valid BCE loss: 0.690330,       Early stopping counter: 1\n",
      "Epoch [3/500],        Train BCE loss: 0.691665,         Valid BCE loss: 0.690330,       Early stopping counter: 2\n",
      "Epoch [4/500],        Train BCE loss: 0.691726,         Valid BCE loss: 0.690325,       Early stopping counter: 3\n",
      "Epoch [5/500],        Train BCE loss: 0.691706,         Valid BCE loss: 0.690330,       Early stopping counter: 4\n",
      "Epoch [6/500],        Train BCE loss: 0.691629,         Valid BCE loss: 0.690325,       Early stopping counter: 5\n",
      "Epoch [7/500],        Train BCE loss: 0.691698,         Valid BCE loss: 0.690327,       Early stopping counter: 6\n",
      "Epoch [8/500],        Train BCE loss: 0.691774,         Valid BCE loss: 0.690328,       Early stopping counter: 7\n",
      "Epoch [9/500],        Train BCE loss: 0.691608,         Valid BCE loss: 0.690328,       Early stopping counter: 8\n",
      "Epoch [10/500],        Train BCE loss: 0.691651,         Valid BCE loss: 0.690327,       Early stopping counter: 9\n",
      "Epoch [11/500],        Train BCE loss: 0.691664,         Valid BCE loss: 0.690329,       Early stopping counter: 10\n",
      "Epoch [12/500],        Train BCE loss: 0.691697,         Valid BCE loss: 0.690324,       Early stopping counter: 11\n",
      "Epoch [13/500],        Train BCE loss: 0.691805,         Valid BCE loss: 0.690326,       Early stopping counter: 12\n",
      "Epoch [14/500],        Train BCE loss: 0.691850,         Valid BCE loss: 0.690323,       Early stopping counter: 13\n",
      "Epoch [15/500],        Train BCE loss: 0.691566,         Valid BCE loss: 0.690328,       Early stopping counter: 14\n",
      "Loss did not improved for 15 epochs\n",
      "The best bse loss is 0.690320\n",
      "The best bse loss is 0.690320\n"
     ]
    },
    {
     "data": {
      "image/png": "[encoded data removed]",
      "text/plain": [
       "<Figure size 432x288 with 2 Axes>"
      ]
     },
     "metadata": {
      "needs_background": "light"
     },
     "output_type": "display_data"
    },
    {
     "name": "stdout",
     "output_type": "stream",
     "text": [
      "Fold : 4\n"
     ]
    },
    {
     "data": {
      "application/vnd.jupyter.widget-view+json": {
       "model_id": "8c9f36198efc4850bb85bba1049e002f",
       "version_major": 2,
       "version_minor": 0
      },
      "text/plain": [
       "  0%|          | 0/500 [00:00<?, ?it/s]"
      ]
     },
     "metadata": {},
     "output_type": "display_data"
    },
    {
     "name": "stdout",
     "output_type": "stream",
     "text": [
      "Epoch [1/500],        Train BCE loss: 0.692212,         Valid BCE loss: 0.691620,       Early stopping counter: 0\n",
      "Epoch [2/500],        Train BCE loss: 0.692196,         Valid BCE loss: 0.691636,       Early stopping counter: 1\n",
      "Epoch [3/500],        Train BCE loss: 0.692151,         Valid BCE loss: 0.691619,       Early stopping counter: 0\n",
      "Epoch [4/500],        Train BCE loss: 0.692225,         Valid BCE loss: 0.691618,       Early stopping counter: 0\n",
      "Epoch [5/500],        Train BCE loss: 0.692275,         Valid BCE loss: 0.691624,       Early stopping counter: 1\n",
      "Epoch [6/500],        Train BCE loss: 0.692225,         Valid BCE loss: 0.691621,       Early stopping counter: 2\n",
      "Epoch [7/500],        Train BCE loss: 0.692172,         Valid BCE loss: 0.691624,       Early stopping counter: 3\n",
      "Epoch [8/500],        Train BCE loss: 0.692181,         Valid BCE loss: 0.691625,       Early stopping counter: 4\n",
      "Epoch [9/500],        Train BCE loss: 0.692242,         Valid BCE loss: 0.691626,       Early stopping counter: 5\n",
      "Epoch [10/500],        Train BCE loss: 0.692194,         Valid BCE loss: 0.691622,       Early stopping counter: 6\n",
      "Epoch [11/500],        Train BCE loss: 0.692279,         Valid BCE loss: 0.691615,       Early stopping counter: 0\n",
      "Epoch [12/500],        Train BCE loss: 0.692165,         Valid BCE loss: 0.691615,       Early stopping counter: 0\n",
      "Epoch [13/500],        Train BCE loss: 0.692183,         Valid BCE loss: 0.691616,       Early stopping counter: 1\n",
      "Epoch [14/500],        Train BCE loss: 0.692325,         Valid BCE loss: 0.691624,       Early stopping counter: 2\n",
      "Epoch [15/500],        Train BCE loss: 0.692196,         Valid BCE loss: 0.691626,       Early stopping counter: 3\n",
      "Epoch [16/500],        Train BCE loss: 0.692242,         Valid BCE loss: 0.691623,       Early stopping counter: 4\n",
      "Epoch [17/500],        Train BCE loss: 0.692241,         Valid BCE loss: 0.691614,       Early stopping counter: 0\n",
      "Epoch [18/500],        Train BCE loss: 0.692273,         Valid BCE loss: 0.691617,       Early stopping counter: 1\n",
      "Epoch [19/500],        Train BCE loss: 0.692170,         Valid BCE loss: 0.691609,       Early stopping counter: 0\n",
      "Epoch [20/500],        Train BCE loss: 0.692185,         Valid BCE loss: 0.691622,       Early stopping counter: 1\n",
      "Epoch [21/500],        Train BCE loss: 0.692203,         Valid BCE loss: 0.691613,       Early stopping counter: 2\n",
      "Epoch [22/500],        Train BCE loss: 0.692242,         Valid BCE loss: 0.691606,       Early stopping counter: 0\n",
      "Epoch [23/500],        Train BCE loss: 0.692220,         Valid BCE loss: 0.691612,       Early stopping counter: 1\n",
      "Epoch [24/500],        Train BCE loss: 0.692200,         Valid BCE loss: 0.691618,       Early stopping counter: 2\n",
      "Epoch [25/500],        Train BCE loss: 0.692211,         Valid BCE loss: 0.691617,       Early stopping counter: 3\n",
      "Epoch [26/500],        Train BCE loss: 0.692220,         Valid BCE loss: 0.691616,       Early stopping counter: 4\n",
      "Epoch [27/500],        Train BCE loss: 0.692274,         Valid BCE loss: 0.691614,       Early stopping counter: 5\n",
      "Epoch [28/500],        Train BCE loss: 0.692188,         Valid BCE loss: 0.691613,       Early stopping counter: 6\n",
      "Epoch [29/500],        Train BCE loss: 0.692160,         Valid BCE loss: 0.691620,       Early stopping counter: 7\n",
      "Epoch [30/500],        Train BCE loss: 0.692130,         Valid BCE loss: 0.691616,       Early stopping counter: 8\n",
      "Epoch [31/500],        Train BCE loss: 0.692280,         Valid BCE loss: 0.691618,       Early stopping counter: 9\n",
      "Epoch [32/500],        Train BCE loss: 0.692197,         Valid BCE loss: 0.691609,       Early stopping counter: 10\n",
      "Epoch [33/500],        Train BCE loss: 0.692158,         Valid BCE loss: 0.691606,       Early stopping counter: 0\n",
      "Epoch [34/500],        Train BCE loss: 0.692237,         Valid BCE loss: 0.691613,       Early stopping counter: 1\n",
      "Epoch [35/500],        Train BCE loss: 0.692189,         Valid BCE loss: 0.691617,       Early stopping counter: 2\n",
      "Epoch [36/500],        Train BCE loss: 0.692216,         Valid BCE loss: 0.691625,       Early stopping counter: 3\n",
      "Epoch [37/500],        Train BCE loss: 0.692204,         Valid BCE loss: 0.691613,       Early stopping counter: 4\n",
      "Epoch [38/500],        Train BCE loss: 0.692196,         Valid BCE loss: 0.691613,       Early stopping counter: 5\n",
      "Epoch [39/500],        Train BCE loss: 0.692244,         Valid BCE loss: 0.691612,       Early stopping counter: 6\n",
      "Epoch [40/500],        Train BCE loss: 0.692196,         Valid BCE loss: 0.691608,       Early stopping counter: 7\n",
      "Epoch [41/500],        Train BCE loss: 0.692350,         Valid BCE loss: 0.691608,       Early stopping counter: 8\n",
      "Epoch [42/500],        Train BCE loss: 0.692102,         Valid BCE loss: 0.691613,       Early stopping counter: 9\n",
      "Epoch [43/500],        Train BCE loss: 0.692266,         Valid BCE loss: 0.691610,       Early stopping counter: 10\n",
      "Epoch [44/500],        Train BCE loss: 0.692345,         Valid BCE loss: 0.691610,       Early stopping counter: 11\n",
      "Epoch [45/500],        Train BCE loss: 0.692139,         Valid BCE loss: 0.691607,       Early stopping counter: 12\n",
      "Epoch [46/500],        Train BCE loss: 0.692188,         Valid BCE loss: 0.691612,       Early stopping counter: 13\n",
      "Epoch [47/500],        Train BCE loss: 0.692199,         Valid BCE loss: 0.691617,       Early stopping counter: 14\n",
      "Epoch [48/500],        Train BCE loss: 0.692239,         Valid BCE loss: 0.691599,       Early stopping counter: 0\n",
      "Epoch [49/500],        Train BCE loss: 0.692175,         Valid BCE loss: 0.691604,       Early stopping counter: 1\n",
      "Epoch [50/500],        Train BCE loss: 0.692270,         Valid BCE loss: 0.691607,       Early stopping counter: 2\n",
      "Epoch [51/500],        Train BCE loss: 0.692333,         Valid BCE loss: 0.691605,       Early stopping counter: 3\n",
      "Epoch [52/500],        Train BCE loss: 0.692163,         Valid BCE loss: 0.691602,       Early stopping counter: 4\n",
      "Epoch [53/500],        Train BCE loss: 0.692201,         Valid BCE loss: 0.691608,       Early stopping counter: 5\n",
      "Epoch [54/500],        Train BCE loss: 0.692228,         Valid BCE loss: 0.691607,       Early stopping counter: 6\n",
      "Epoch [55/500],        Train BCE loss: 0.692260,         Valid BCE loss: 0.691608,       Early stopping counter: 7\n",
      "Epoch [56/500],        Train BCE loss: 0.692218,         Valid BCE loss: 0.691607,       Early stopping counter: 8\n",
      "Epoch [57/500],        Train BCE loss: 0.692218,         Valid BCE loss: 0.691610,       Early stopping counter: 9\n",
      "Epoch [58/500],        Train BCE loss: 0.692177,         Valid BCE loss: 0.691601,       Early stopping counter: 10\n",
      "Epoch [59/500],        Train BCE loss: 0.692138,         Valid BCE loss: 0.691602,       Early stopping counter: 11\n",
      "Epoch [60/500],        Train BCE loss: 0.692186,         Valid BCE loss: 0.691603,       Early stopping counter: 12\n",
      "Epoch [61/500],        Train BCE loss: 0.692209,         Valid BCE loss: 0.691603,       Early stopping counter: 13\n",
      "Epoch [62/500],        Train BCE loss: 0.692131,         Valid BCE loss: 0.691605,       Early stopping counter: 14\n",
      "Epoch [63/500],        Train BCE loss: 0.692261,         Valid BCE loss: 0.691598,       Early stopping counter: 0\n",
      "Epoch [64/500],        Train BCE loss: 0.692200,         Valid BCE loss: 0.691604,       Early stopping counter: 1\n",
      "Epoch [65/500],        Train BCE loss: 0.692197,         Valid BCE loss: 0.691604,       Early stopping counter: 2\n",
      "Epoch [66/500],        Train BCE loss: 0.692229,         Valid BCE loss: 0.691603,       Early stopping counter: 3\n",
      "Epoch [67/500],        Train BCE loss: 0.692169,         Valid BCE loss: 0.691602,       Early stopping counter: 4\n",
      "Epoch [68/500],        Train BCE loss: 0.692296,         Valid BCE loss: 0.691605,       Early stopping counter: 5\n",
      "Epoch [69/500],        Train BCE loss: 0.692113,         Valid BCE loss: 0.691603,       Early stopping counter: 6\n",
      "Epoch [70/500],        Train BCE loss: 0.692164,         Valid BCE loss: 0.691607,       Early stopping counter: 7\n",
      "Epoch [71/500],        Train BCE loss: 0.692180,         Valid BCE loss: 0.691606,       Early stopping counter: 8\n",
      "Epoch [72/500],        Train BCE loss: 0.692164,         Valid BCE loss: 0.691592,       Early stopping counter: 0\n"
     ]
    },
    {
     "name": "stdout",
     "output_type": "stream",
     "text": [
      "Epoch [73/500],        Train BCE loss: 0.692116,         Valid BCE loss: 0.691603,       Early stopping counter: 1\n",
      "Epoch [74/500],        Train BCE loss: 0.692256,         Valid BCE loss: 0.691605,       Early stopping counter: 2\n",
      "Epoch [75/500],        Train BCE loss: 0.692277,         Valid BCE loss: 0.691598,       Early stopping counter: 3\n",
      "Epoch [76/500],        Train BCE loss: 0.692225,         Valid BCE loss: 0.691602,       Early stopping counter: 4\n",
      "Epoch [77/500],        Train BCE loss: 0.692272,         Valid BCE loss: 0.691604,       Early stopping counter: 5\n",
      "Epoch [78/500],        Train BCE loss: 0.692062,         Valid BCE loss: 0.691597,       Early stopping counter: 6\n",
      "Epoch [79/500],        Train BCE loss: 0.692143,         Valid BCE loss: 0.691598,       Early stopping counter: 7\n",
      "Epoch [80/500],        Train BCE loss: 0.692229,         Valid BCE loss: 0.691598,       Early stopping counter: 8\n",
      "Epoch [81/500],        Train BCE loss: 0.692151,         Valid BCE loss: 0.691595,       Early stopping counter: 9\n",
      "Epoch [82/500],        Train BCE loss: 0.692169,         Valid BCE loss: 0.691598,       Early stopping counter: 10\n",
      "Epoch [83/500],        Train BCE loss: 0.692152,         Valid BCE loss: 0.691604,       Early stopping counter: 11\n",
      "Epoch [84/500],        Train BCE loss: 0.692262,         Valid BCE loss: 0.691594,       Early stopping counter: 12\n",
      "Epoch [85/500],        Train BCE loss: 0.692158,         Valid BCE loss: 0.691595,       Early stopping counter: 13\n",
      "Epoch [86/500],        Train BCE loss: 0.692188,         Valid BCE loss: 0.691595,       Early stopping counter: 14\n",
      "Loss did not improved for 15 epochs\n",
      "The best bse loss is 0.691592\n",
      "The best bse loss is 0.691592\n"
     ]
    },
    {
     "data": {
      "image/png": "[encoded data removed]",
      "text/plain": [
       "<Figure size 432x288 with 2 Axes>"
      ]
     },
     "metadata": {
      "needs_background": "light"
     },
     "output_type": "display_data"
    },
    {
     "name": "stdout",
     "output_type": "stream",
     "text": [
      "Fold : 5\n"
     ]
    },
    {
     "data": {
      "application/vnd.jupyter.widget-view+json": {
       "model_id": "7a38ae794f88419eab75a56177ef4a34",
       "version_major": 2,
       "version_minor": 0
      },
      "text/plain": [
       "  0%|          | 0/500 [00:00<?, ?it/s]"
      ]
     },
     "metadata": {},
     "output_type": "display_data"
    },
    {
     "name": "stdout",
     "output_type": "stream",
     "text": [
      "Epoch [1/500],        Train BCE loss: 0.692505,         Valid BCE loss: 0.690686,       Early stopping counter: 0\n",
      "Epoch [2/500],        Train BCE loss: 0.692594,         Valid BCE loss: 0.690687,       Early stopping counter: 1\n",
      "Epoch [3/500],        Train BCE loss: 0.692511,         Valid BCE loss: 0.690687,       Early stopping counter: 2\n",
      "Epoch [4/500],        Train BCE loss: 0.692507,         Valid BCE loss: 0.690682,       Early stopping counter: 0\n",
      "Epoch [5/500],        Train BCE loss: 0.692464,         Valid BCE loss: 0.690691,       Early stopping counter: 1\n",
      "Epoch [6/500],        Train BCE loss: 0.692462,         Valid BCE loss: 0.690682,       Early stopping counter: 0\n",
      "Epoch [7/500],        Train BCE loss: 0.692515,         Valid BCE loss: 0.690682,       Early stopping counter: 0\n",
      "Epoch [8/500],        Train BCE loss: 0.692500,         Valid BCE loss: 0.690687,       Early stopping counter: 1\n",
      "Epoch [9/500],        Train BCE loss: 0.692530,         Valid BCE loss: 0.690684,       Early stopping counter: 2\n",
      "Epoch [10/500],        Train BCE loss: 0.692674,         Valid BCE loss: 0.690683,       Early stopping counter: 3\n",
      "Epoch [11/500],        Train BCE loss: 0.692542,         Valid BCE loss: 0.690678,       Early stopping counter: 0\n",
      "Epoch [12/500],        Train BCE loss: 0.692503,         Valid BCE loss: 0.690682,       Early stopping counter: 1\n",
      "Epoch [13/500],        Train BCE loss: 0.692523,         Valid BCE loss: 0.690680,       Early stopping counter: 2\n",
      "Epoch [14/500],        Train BCE loss: 0.692510,         Valid BCE loss: 0.690685,       Early stopping counter: 3\n",
      "Epoch [15/500],        Train BCE loss: 0.692492,         Valid BCE loss: 0.690683,       Early stopping counter: 4\n",
      "Epoch [16/500],        Train BCE loss: 0.692490,         Valid BCE loss: 0.690690,       Early stopping counter: 5\n",
      "Epoch [17/500],        Train BCE loss: 0.692568,         Valid BCE loss: 0.690681,       Early stopping counter: 6\n",
      "Epoch [18/500],        Train BCE loss: 0.692479,         Valid BCE loss: 0.690677,       Early stopping counter: 0\n",
      "Epoch [19/500],        Train BCE loss: 0.692498,         Valid BCE loss: 0.690683,       Early stopping counter: 1\n",
      "Epoch [20/500],        Train BCE loss: 0.692519,         Valid BCE loss: 0.690676,       Early stopping counter: 0\n",
      "Epoch [21/500],        Train BCE loss: 0.692510,         Valid BCE loss: 0.690684,       Early stopping counter: 1\n",
      "Epoch [22/500],        Train BCE loss: 0.692537,         Valid BCE loss: 0.690682,       Early stopping counter: 2\n",
      "Epoch [23/500],        Train BCE loss: 0.692492,         Valid BCE loss: 0.690683,       Early stopping counter: 3\n",
      "Epoch [24/500],        Train BCE loss: 0.692490,         Valid BCE loss: 0.690678,       Early stopping counter: 4\n",
      "Epoch [25/500],        Train BCE loss: 0.692503,         Valid BCE loss: 0.690678,       Early stopping counter: 5\n",
      "Epoch [26/500],        Train BCE loss: 0.692417,         Valid BCE loss: 0.690673,       Early stopping counter: 0\n",
      "Epoch [27/500],        Train BCE loss: 0.692511,         Valid BCE loss: 0.690678,       Early stopping counter: 1\n",
      "Epoch [28/500],        Train BCE loss: 0.692486,         Valid BCE loss: 0.690672,       Early stopping counter: 0\n",
      "Epoch [29/500],        Train BCE loss: 0.692464,         Valid BCE loss: 0.690677,       Early stopping counter: 1\n",
      "Epoch [30/500],        Train BCE loss: 0.692532,         Valid BCE loss: 0.690670,       Early stopping counter: 0\n",
      "Epoch [31/500],        Train BCE loss: 0.692481,         Valid BCE loss: 0.690682,       Early stopping counter: 1\n",
      "Epoch [32/500],        Train BCE loss: 0.692507,         Valid BCE loss: 0.690670,       Early stopping counter: 0\n",
      "Epoch [33/500],        Train BCE loss: 0.692475,         Valid BCE loss: 0.690674,       Early stopping counter: 1\n",
      "Epoch [34/500],        Train BCE loss: 0.692521,         Valid BCE loss: 0.690676,       Early stopping counter: 2\n",
      "Epoch [35/500],        Train BCE loss: 0.692585,         Valid BCE loss: 0.690678,       Early stopping counter: 3\n",
      "Epoch [36/500],        Train BCE loss: 0.692493,         Valid BCE loss: 0.690672,       Early stopping counter: 4\n",
      "Epoch [37/500],        Train BCE loss: 0.692530,         Valid BCE loss: 0.690673,       Early stopping counter: 5\n",
      "Epoch [38/500],        Train BCE loss: 0.692480,         Valid BCE loss: 0.690662,       Early stopping counter: 0\n",
      "Epoch [39/500],        Train BCE loss: 0.692542,         Valid BCE loss: 0.690668,       Early stopping counter: 1\n",
      "Epoch [40/500],        Train BCE loss: 0.692582,         Valid BCE loss: 0.690670,       Early stopping counter: 2\n",
      "Epoch [41/500],        Train BCE loss: 0.692504,         Valid BCE loss: 0.690668,       Early stopping counter: 3\n",
      "Epoch [42/500],        Train BCE loss: 0.692497,         Valid BCE loss: 0.690674,       Early stopping counter: 4\n",
      "Epoch [43/500],        Train BCE loss: 0.692558,         Valid BCE loss: 0.690661,       Early stopping counter: 0\n",
      "Epoch [44/500],        Train BCE loss: 0.692493,         Valid BCE loss: 0.690668,       Early stopping counter: 1\n",
      "Epoch [45/500],        Train BCE loss: 0.692472,         Valid BCE loss: 0.690669,       Early stopping counter: 2\n",
      "Epoch [46/500],        Train BCE loss: 0.692458,         Valid BCE loss: 0.690661,       Early stopping counter: 3\n",
      "Epoch [47/500],        Train BCE loss: 0.692465,         Valid BCE loss: 0.690672,       Early stopping counter: 4\n",
      "Epoch [48/500],        Train BCE loss: 0.692497,         Valid BCE loss: 0.690668,       Early stopping counter: 5\n",
      "Epoch [49/500],        Train BCE loss: 0.692512,         Valid BCE loss: 0.690662,       Early stopping counter: 6\n",
      "Epoch [50/500],        Train BCE loss: 0.692505,         Valid BCE loss: 0.690665,       Early stopping counter: 7\n",
      "Epoch [51/500],        Train BCE loss: 0.692429,         Valid BCE loss: 0.690666,       Early stopping counter: 8\n",
      "Epoch [52/500],        Train BCE loss: 0.692560,         Valid BCE loss: 0.690667,       Early stopping counter: 9\n",
      "Epoch [53/500],        Train BCE loss: 0.692553,         Valid BCE loss: 0.690663,       Early stopping counter: 10\n",
      "Epoch [54/500],        Train BCE loss: 0.692602,         Valid BCE loss: 0.690663,       Early stopping counter: 11\n",
      "Epoch [55/500],        Train BCE loss: 0.692620,         Valid BCE loss: 0.690666,       Early stopping counter: 12\n",
      "Epoch [56/500],        Train BCE loss: 0.692402,         Valid BCE loss: 0.690663,       Early stopping counter: 13\n",
      "Epoch [57/500],        Train BCE loss: 0.692552,         Valid BCE loss: 0.690664,       Early stopping counter: 14\n",
      "Loss did not improved for 15 epochs\n",
      "The best bse loss is 0.690661\n",
      "The best bse loss is 0.690661\n"
     ]
    },
    {
     "data": {
      "image/png": "[encoded data removed]",
      "text/plain": [
       "<Figure size 432x288 with 2 Axes>"
      ]
     },
     "metadata": {
      "needs_background": "light"
     },
     "output_type": "display_data"
    },
    {
     "name": "stdout",
     "output_type": "stream",
     "text": [
      "Training process takes 63.18 min.\n"
     ]
    }
   ],
   "source": [
    "sts = time.time()\n",
    "learn_hist_list = []\n",
    "save_path_list = []\n",
    "for fold, (tr, vl) in enumerate(gkf.split(train['action'].values, train['action'].values, train['date'].values)):\n",
    "    print('Fold : {}'.format(fold+1))\n",
    "    \n",
    "    X_tr, X_val = X[tr], X[vl]\n",
    "    y_tr, y_val = y[tr], y[vl]\n",
    "    trn_dat = CustomDataset(X_tr, y_tr)\n",
    "    val_dat = CustomDataset(X_val, y_val)\n",
    "    trn_loader = DataLoader(trn_dat , batch_size=BATCH_SIZE, shuffle=False)\n",
    "    val_loader = DataLoader(val_dat , batch_size=BATCH_SIZE, shuffle=False)\n",
    "    loaders = {'train':trn_loader, 'valid': val_loader}\n",
    "    trained_model, learn_hist, save_path =\\\n",
    "        train_model(model, criterion, optimizer, scheduler, loaders, DEVICE, NUM_EPOCH, PATIANCE, \\\n",
    "                MDL_PATH, MDL_NAME, VER, fold+1)\n",
    "    fig = plt.figure()\n",
    "    ax1 = fig.add_subplot(111)\n",
    "    plt.plot(learn_hist.epoch, learn_hist.valid_bce_loss, color = 'blue')\n",
    "    ax2 = ax1.twinx()\n",
    "    plt.plot(learn_hist.epoch, learn_hist.train_bce_loss, color = 'red')\n",
    "    ax1.set_ylabel('Valid BCE Loss')\n",
    "    ax2.set_ylabel('Train BCE Loss')\n",
    "    plt.xlabel('Epochs')\n",
    "    plt.title('Learning Curve')\n",
    "    plt.show()\n",
    "    learn_hist['Fold'] = fold+1\n",
    "    learn_hist_list.append(learn_hist)\n",
    "    save_path_list.append(save_path)\n",
    "all_hist = pd.concat(learn_hist_list, axis=0)\n",
    "all_hist.reset_index(inplace=True, drop=True)\n",
    "all_hist.to_csv(f'{MDL_PATH}/{MDL_NAME}_{VER}/{MDL_NAME}_learning_history.csv', index=False)\n",
    "ed = time.time()\n",
    "print('Training process takes {:.2f} min.'.format((ed-sts)/60))"
   ]
  },
  {
   "cell_type": "code",
   "execution_count": 9,
   "metadata": {},
   "outputs": [],
   "source": [
    "@njit(fastmath = True)\n",
    "def utility_score_numba(date, weight, resp, action):\n",
    "    Pi = np.bincount(date, weight * resp * action)\n",
    "    t = np.sum(Pi) / np.sqrt(np.sum(Pi ** 2)) * np.sqrt(250 / len(Pi))\n",
    "    u = min(max(t, 0), 6) * np.sum(Pi)\n",
    "    return u\n",
    "\n",
    "#https://www.kaggle.com/gogo827jz/jane-street-super-fast-utility-score-function"
   ]
  },
  {
   "cell_type": "code",
   "execution_count": 26,
   "metadata": {},
   "outputs": [],
   "source": [
    "model_list  = glob.glob(f'{MDL_PATH}/{MDL_NAME}_{VER}/*.pth')"
   ]
  },
  {
   "cell_type": "code",
   "execution_count": 27,
   "metadata": {},
   "outputs": [],
   "source": [
    "torch.cuda.empty_cache()"
   ]
  },
  {
   "cell_type": "code",
   "execution_count": 28,
   "metadata": {},
   "outputs": [
    {
     "data": {
      "application/vnd.jupyter.widget-view+json": {
       "model_id": "1f5b0e19759544d089532b06ebc0e1cf",
       "version_major": 2,
       "version_minor": 0
      },
      "text/plain": [
       "  0%|          | 0/96 [00:00<?, ?it/s]"
      ]
     },
     "metadata": {},
     "output_type": "display_data"
    }
   ],
   "source": [
    "th = 0.5\n",
    "loop = int(np.round(len(X)/BATCH_SIZE))\n",
    "pred_all = np.array([])\n",
    "for n in tqdm(range(loop)):\n",
    "    x_tt = X[BATCH_SIZE*n:BATCH_SIZE*(n+1),:]\n",
    "    if np.isnan(x_tt[:, 1:].sum()):\n",
    "        x_tt[:, 1:] = np.nan_to_num(x_tt[:, 1:]) + np.isnan(x_tt[:, 1:]) * f_mean\n",
    "    pred = 0.0\n",
    "    X_test = torch.FloatTensor(x_tt).to(DEVICE)\n",
    "    for mdl in model_list:\n",
    "        load_weights = torch.load(mdl)\n",
    "        model.load_state_dict(load_weights)\n",
    "        model.eval()\n",
    "        pred += model(X_test).cpu().detach().numpy() / FOLDS\n",
    "    if len(pred_all) == 0:\n",
    "        pred_all = pred.copy()\n",
    "    else:\n",
    "        pred_all = np.vstack([pred_all, pred]).copy()"
   ]
  },
  {
   "cell_type": "code",
   "execution_count": 30,
   "metadata": {},
   "outputs": [],
   "source": [
    "date = train['date'].values\n",
    "weight = train['weight'].values\n",
    "resp = train['resp'].values\n",
    "train['action'] = (train['resp'] > 0).astype('int')\n",
    "action_ans = train['action'].values"
   ]
  },
  {
   "cell_type": "code",
   "execution_count": 47,
   "metadata": {},
   "outputs": [
    {
     "data": {
      "text/plain": [
       "4802.998051218225"
      ]
     },
     "execution_count": 47,
     "metadata": {},
     "output_type": "execute_result"
    }
   ],
   "source": [
    "th=0.511\n",
    "action = np.where(pred_all[:,0] >= th, 1, 0).astype(int).copy()\n",
    "utility_score_numba(date, weight, resp, action)"
   ]
  },
  {
   "cell_type": "code",
   "execution_count": 32,
   "metadata": {},
   "outputs": [
    {
     "data": {
      "text/plain": [
       "173797.76047460194"
      ]
     },
     "execution_count": 32,
     "metadata": {},
     "output_type": "execute_result"
    }
   ],
   "source": [
    "utility_score_numba(date, weight, resp, action_ans)"
   ]
  },
  {
   "cell_type": "code",
   "execution_count": 48,
   "metadata": {},
   "outputs": [
    {
     "data": {
      "text/plain": [
       "14341"
      ]
     },
     "execution_count": 48,
     "metadata": {},
     "output_type": "execute_result"
    }
   ],
   "source": [
    "gc.collect()"
   ]
  },
  {
   "cell_type": "markdown",
   "metadata": {},
   "source": [
    "## Predict Test "
   ]
  },
  {
   "cell_type": "code",
   "execution_count": null,
   "metadata": {},
   "outputs": [],
   "source": [
    "print(f'{MDL_PATH}/{MDL_NAME}_{VER}')"
   ]
  },
  {
   "cell_type": "code",
   "execution_count": null,
   "metadata": {},
   "outputs": [],
   "source": [
    "#!kaggle datasets init -p ../models/autoencoder_test"
   ]
  },
  {
   "cell_type": "code",
   "execution_count": null,
   "metadata": {},
   "outputs": [],
   "source": [
    "%%writefile ../models/mlp_base/dataset-metadata.json\n",
    "{\n",
    "    \"title\": \"Jane-Street\",\n",
    "    \"id\": \"shinsei66/Jane-Street\",\n",
    "    \"subtitle\": \"\",\n",
    "    \"description\": \"\",\n",
    "    \"isPrivate\": true,\n",
    "    \"licenses\": [\n",
    "        {\n",
    "            \"name\": \"unknown\" \n",
    "        }\n",
    "    ],\n",
    "    \"keywords\": [],\n",
    "    \"collaborators\": [],\n",
    "    \"data\": [\n",
    "        {\n",
    "            \"description\": null,\n",
    "            \"name\": \"autoencoder_99.pth\",\n",
    "            \"totalBytes\": 848,\n",
    "            \"columns\": []\n",
    "        },\n",
    "        {\n",
    "            \"description\": null,\n",
    "            \"name\": \"autoencoder_254.pth\",\n",
    "            \"totalBytes\": 856,\n",
    "            \"columns\": []\n",
    "        },\n",
    "        {\n",
    "            \"description\": null,\n",
    "            \"name\": \"mlp_base_984.pth\",\n",
    "            \"totalBytes\": 1316,\n",
    "            \"columns\": []\n",
    "        }\n",
    "    ]\n",
    "}"
   ]
  },
  {
   "cell_type": "code",
   "execution_count": null,
   "metadata": {},
   "outputs": [],
   "source": [
    "#!kaggle datasets create -p  ../models/autoencoder_early_stopping"
   ]
  },
  {
   "cell_type": "code",
   "execution_count": null,
   "metadata": {},
   "outputs": [],
   "source": [
    "!du ../models/mlp_base/mlp_984.pth"
   ]
  },
  {
   "cell_type": "code",
   "execution_count": null,
   "metadata": {},
   "outputs": [],
   "source": [
    "!kaggle datasets version -p  ../models/mlp_base -m \"mlp base 984 epoch\""
   ]
  }
 ],
 "metadata": {
  "kernelspec": {
   "display_name": "Python 3",
   "language": "python",
   "name": "python3"
  },
  "language_info": {
   "codemirror_mode": {
    "name": "ipython",
    "version": 3
   },
   "file_extension": ".py",
   "mimetype": "text/x-python",
   "name": "python",
   "nbconvert_exporter": "python",
   "pygments_lexer": "ipython3",
   "version": "3.7.9"
  },
  "toc": {
   "base_numbering": 1,
   "nav_menu": {},
   "number_sections": true,
   "sideBar": true,
   "skip_h1_title": false,
   "title_cell": "Table of Contents",
   "title_sidebar": "Contents",
   "toc_cell": false,
   "toc_position": {
    "height": "calc(100% - 180px)",
    "left": "10px",
    "top": "150px",
    "width": "369.574px"
   },
   "toc_section_display": true,
   "toc_window_display": true
  },
  "varInspector": {
   "cols": {
    "lenName": 16,
    "lenType": 16,
    "lenVar": 40
   },
   "kernels_config": {
    "python": {
     "delete_cmd_postfix": "",
     "delete_cmd_prefix": "del ",
     "library": "var_list.py",
     "varRefreshCmd": "print(var_dic_list())"
    },
    "r": {
     "delete_cmd_postfix": ") ",
     "delete_cmd_prefix": "rm(",
     "library": "var_list.r",
     "varRefreshCmd": "cat(var_dic_list()) "
    }
   },
   "oldHeight": 633.991364,
   "position": {
    "height": "40px",
    "left": "1283.99px",
    "right": "20px",
    "top": "120px",
    "width": "341.989px"
   },
   "types_to_exclude": [
    "module",
    "function",
    "builtin_function_or_method",
    "instance",
    "_Feature"
   ],
   "varInspector_section_display": "none",
   "window_display": true
  }
 },
 "nbformat": 4,
 "nbformat_minor": 4
}
