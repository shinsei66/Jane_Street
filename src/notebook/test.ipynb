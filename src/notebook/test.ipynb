{
 "cells": [
  {
   "cell_type": "code",
   "execution_count": 1,
   "metadata": {},
   "outputs": [
    {
     "name": "stdout",
     "output_type": "stream",
     "text": [
      "Help on function upload_to_kaggle in module utils:\n",
      "\n",
      "upload_to_kaggle(title: str, k_id: str, path: str, comments: str, update: bool, logger=None, extension='.pth', subtitle='', description='', isPrivate=True, licenses='unknown', keywords=[], collaborators=[])\n",
      "    >> upload_to_kaggle(title, k_id, path,  comments, update)\n",
      "    \n",
      "    Arguments\n",
      "    =========\n",
      "     title: the title of your dataset.\n",
      "     k_id: kaggle account id.\n",
      "     path: non-default string argument of the file path of the data to be uploaded.\n",
      "     comments:non-default string argument of the comment or the version about your upload.\n",
      "     logger: logger object if you use logging, default is None.\n",
      "     extension: the file extension of model weight files, default is \".pth\"\n",
      "     subtitle: the subtitle of your dataset, default is empty string.\n",
      "     description: dataset description, default is empty string.\n",
      "     isPrivate: boolean to show wheather to make the data public, default is True.\n",
      "     licenses = the licenses description, default is \"unkown\"; must be one of /\n",
      "     ['CC0-1.0', 'CC-BY-SA-4.0', 'GPL-2.0', 'ODbL-1.0', 'CC-BY-NC-SA-4.0', 'unknown', 'DbCL-1.0', 'CC-BY-SA-3.0', 'copyright-authors', 'other', 'reddit-api', 'world-bank'] .\n",
      "     keywords : the list of keywords about the dataset, default is empty list.\n",
      "     collaborators: the list of dataset collaborators, default is empty list.\n",
      "\n"
     ]
    }
   ],
   "source": [
    "import sys\n",
    "import os\n",
    "from utils import upload_to_kaggle, get_args\n",
    "import yaml\n",
    "import torch\n",
    "import logging\n",
    "help(upload_to_kaggle)\n",
    "import pandas as pd"
   ]
  },
  {
   "cell_type": "code",
   "execution_count": 2,
   "metadata": {},
   "outputs": [
    {
     "name": "stdout",
     "output_type": "stream",
     "text": [
      "CPU times: user 29.3 s, sys: 1.47 s, total: 30.8 s\n",
      "Wall time: 30.8 s\n"
     ]
    }
   ],
   "source": [
    "%%time\n",
    "df = pd.read_csv('../../input/train.csv')"
   ]
  },
  {
   "cell_type": "code",
   "execution_count": 7,
   "metadata": {},
   "outputs": [
    {
     "data": {
      "text/plain": [
       "(1862597, 138)"
      ]
     },
     "execution_count": 7,
     "metadata": {},
     "output_type": "execute_result"
    }
   ],
   "source": [
    "df.query(' date >85').shape"
   ]
  },
  {
   "cell_type": "code",
   "execution_count": 2,
   "metadata": {},
   "outputs": [
    {
     "name": "stderr",
     "output_type": "stream",
     "text": [
      "{'EXT': '012', 'TRAINING': True, 'USE_FINETUNE': True, 'FOLDS': 5, 'GROUP_GAP': 20, 'SEED': 66, 'INPUTPATH': '../../input', 'NUM_EPOCH': 300, 'BATCH_SIZE': 32768, 'PATIANCE': 40, 'LR': 0.0005, 'MDL_PATH': '../models', 'MDL_NAME': 'autoencoder', 'VER': 'ho_base', 'THRESHOLD': 0, 'DATAVER': '02', 'COMMENT': 'early stopping patiance 20--> 40; base EXT012'}\n",
      "['/home/xuqing/anaconda3/envs/analysis/lib/python3.7/site-packages/ipykernel_launcher.py', '-f', '/home/xuqing/.local/share/jupyter/runtime/kernel-2eccb149-5ccc-47ff-b97d-6b6714bfab80.json']\n"
     ]
    },
    {
     "name": "stdout",
     "output_type": "stream",
     "text": [
      "cuda\n"
     ]
    }
   ],
   "source": [
    "config_path = 'parameters_ho_01.yaml'\n",
    "with open(config_path, 'r') as f:\n",
    "    config = yaml.safe_load(f)\n",
    "\n",
    "\n",
    "EXT = config['EXT']\n",
    "TRAINING = config['TRAINING']\n",
    "USE_FINETUNE = config['USE_FINETUNE']     \n",
    "FOLDS = config['FOLDS']\n",
    "GROUP_GAP = config['GROUP_GAP']\n",
    "SEED = config['SEED']\n",
    "INPUTPATH = config['INPUTPATH']\n",
    "NUM_EPOCH = config['NUM_EPOCH']\n",
    "BATCH_SIZE = config['BATCH_SIZE']\n",
    "PATIANCE = config['PATIANCE']\n",
    "LR =config['LR']\n",
    "DEVICE = torch.device(\"cuda\" if torch.cuda.is_available() else \"cpu\")\n",
    "print(DEVICE)\n",
    "MDL_PATH  =config['MDL_PATH']\n",
    "MDL_NAME =config['MDL_NAME']\n",
    "VER = config['VER']\n",
    "THRESHOLD = config['THRESHOLD']\n",
    "COMMENT = config['COMMENT']\n",
    "\n",
    "format_str = '%(asctime)s - %(name)s - %(levelname)s - %(message)s'\n",
    "logging.basicConfig(level = logging.INFO,format=format_str, filename=f'../logs/upload_log_{MDL_NAME}_{VER}_{EXT}.log')\n",
    "logger = logging.getLogger('Log')\n",
    "\n",
    "##https://ryoz001.com/1154.html\n",
    "# コンソール画面用ハンドラー設定\n",
    "# ハンドラーのログレベルを設定する (INFO以上を出力する)\n",
    "consoleHandler = logging.StreamHandler()\n",
    "consoleHandler.setLevel(logging.INFO)\n",
    "# logger と コンソール用ハンドラーの関連付け\n",
    "logger.addHandler(consoleHandler)\n",
    "logger.info(config)\n",
    "logger.info(sys.argv)\n",
    "\n",
    "VER = (VER + '_' + EXT)\n",
    "\n",
    "model_path = f'{MDL_PATH}/{MDL_NAME}_{VER}'"
   ]
  },
  {
   "cell_type": "code",
   "execution_count": 5,
   "metadata": {},
   "outputs": [
    {
     "name": "stderr",
     "output_type": "stream",
     "text": [
      "{'title': 'Jane-Street', 'id': 'shinsei66/Jane-Street', 'subtitle': '', 'description': '', 'isPrivate': True, 'licenses': [{'name': 'unknown'}], 'keywords': [], 'collaborators': [], 'data': [{'description': 'ho_base_012', 'name': 'autoencoder_fold_ho_54.pth', 'totalBytes': 4136646, 'columns': []}]}\n",
      "['echo', '2']\n",
      "b'2\\n'\n"
     ]
    }
   ],
   "source": [
    "title = \"Jane-Street\"\n",
    "k_id = \"shinsei66\"\n",
    "path = model_path\n",
    "comments = VER\n",
    "update = True\n",
    "upload_to_kaggle(title, k_id, path,  comments, update,logger=logger)"
   ]
  },
  {
   "cell_type": "code",
   "execution_count": 5,
   "metadata": {},
   "outputs": [
    {
     "name": "stdout",
     "output_type": "stream",
     "text": [
      "Help on function check_output in module subprocess:\n",
      "\n",
      "check_output(*popenargs, timeout=None, **kwargs)\n",
      "    Run command with arguments and return its output.\n",
      "    \n",
      "    If the exit code was non-zero it raises a CalledProcessError.  The\n",
      "    CalledProcessError object will have the return code in the returncode\n",
      "    attribute and output in the output attribute.\n",
      "    \n",
      "    The arguments are the same as for the Popen constructor.  Example:\n",
      "    \n",
      "    >>> check_output([\"ls\", \"-l\", \"/dev/null\"])\n",
      "    b'crw-rw-rw- 1 root root 1, 3 Oct 18  2007 /dev/null\\n'\n",
      "    \n",
      "    The stdout argument is not allowed as it is used internally.\n",
      "    To capture standard error in the result, use stderr=STDOUT.\n",
      "    \n",
      "    >>> check_output([\"/bin/sh\", \"-c\",\n",
      "    ...               \"ls -l non_existent_file ; exit 0\"],\n",
      "    ...              stderr=STDOUT)\n",
      "    b'ls: non_existent_file: No such file or directory\\n'\n",
      "    \n",
      "    There is an additional optional argument, \"input\", allowing you to\n",
      "    pass a string to the subprocess's stdin.  If you use this argument\n",
      "    you may not also use the Popen constructor's \"stdin\" argument, as\n",
      "    it too will be used internally.  Example:\n",
      "    \n",
      "    >>> check_output([\"sed\", \"-e\", \"s/foo/bar/\"],\n",
      "    ...              input=b\"when in the course of fooman events\\n\")\n",
      "    b'when in the course of barman events\\n'\n",
      "    \n",
      "    By default, all communication is in bytes, and therefore any \"input\"\n",
      "    should be bytes, and the return value will be bytes.  If in text mode,\n",
      "    any \"input\" should be a string, and the return value will be a string\n",
      "    decoded according to locale encoding, or by \"encoding\" if set. Text mode\n",
      "    is triggered by setting any of text, encoding, errors or universal_newlines.\n",
      "\n"
     ]
    }
   ],
   "source": [
    "import subprocess\n",
    "help(subprocess.check_output)"
   ]
  },
  {
   "cell_type": "code",
   "execution_count": null,
   "metadata": {},
   "outputs": [],
   "source": []
  }
 ],
 "metadata": {
  "kernelspec": {
   "display_name": "Python 3",
   "language": "python",
   "name": "python3"
  },
  "language_info": {
   "codemirror_mode": {
    "name": "ipython",
    "version": 3
   },
   "file_extension": ".py",
   "mimetype": "text/x-python",
   "name": "python",
   "nbconvert_exporter": "python",
   "pygments_lexer": "ipython3",
   "version": "3.7.9"
  },
  "toc": {
   "base_numbering": 1,
   "nav_menu": {},
   "number_sections": true,
   "sideBar": true,
   "skip_h1_title": false,
   "title_cell": "Table of Contents",
   "title_sidebar": "Contents",
   "toc_cell": false,
   "toc_position": {},
   "toc_section_display": true,
   "toc_window_display": false
  },
  "varInspector": {
   "cols": {
    "lenName": 16,
    "lenType": 16,
    "lenVar": 40
   },
   "kernels_config": {
    "python": {
     "delete_cmd_postfix": "",
     "delete_cmd_prefix": "del ",
     "library": "var_list.py",
     "varRefreshCmd": "print(var_dic_list())"
    },
    "r": {
     "delete_cmd_postfix": ") ",
     "delete_cmd_prefix": "rm(",
     "library": "var_list.r",
     "varRefreshCmd": "cat(var_dic_list()) "
    }
   },
   "types_to_exclude": [
    "module",
    "function",
    "builtin_function_or_method",
    "instance",
    "_Feature"
   ],
   "window_display": false
  }
 },
 "nbformat": 4,
 "nbformat_minor": 4
}
